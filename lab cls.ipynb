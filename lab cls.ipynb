{
 "cells": [
  {
   "cell_type": "markdown",
   "metadata": {},
   "source": [
    "# lab cls\n"
   ]
  },
  {
   "cell_type": "code",
   "execution_count": 2,
   "metadata": {},
   "outputs": [
    {
     "name": "stdout",
     "output_type": "stream",
     "text": [
      "Name: sifat\n",
      "ID: 151382356\n",
      "Salary: 2000\n",
      "Department: CSE\n"
     ]
    }
   ],
   "source": [
    "class Employee:\n",
    "    def __init__(self,ID, name, salary, Department):\n",
    "        self.ID = ID  \n",
    "        self.name = name\n",
    "        self.salary = salary\n",
    "        self.Department = Department\n",
    "   \n",
    "    def displayEmp(self):\n",
    "        print (\"Name: \"+str(self.name))\n",
    "        print (\"ID: \"+str(self.ID))\n",
    "        print (\"Salary: \"+str(self.salary))\n",
    "        print (\"Department: \"+str(self.Department))\n",
    "        \n",
    "emp = Employee(151382356,\"sifat\",2000,\"CSE\")\n",
    "emp.displayEmp()"
   ]
  },
  {
   "cell_type": "code",
   "execution_count": 3,
   "metadata": {},
   "outputs": [
    {
     "name": "stdout",
     "output_type": "stream",
     "text": [
      "id: 151382356\n",
      "name: sifat\n",
      "email: sifat337@gmail.com\n",
      "address: Cantonment\n",
      "phone: 013402345\n",
      "id: 151382338\n",
      "name: Rasel\n",
      "email: rasel338@gmail.com\n",
      "address: Framgate\n",
      "phone: 01558647231\n"
     ]
    }
   ],
   "source": [
    "class Employee:\n",
    "    def __init__(self, eid, ename, email, address, phone_num):\n",
    "        \n",
    "        self.eid=eid\n",
    "        self.ename=ename\n",
    "        self.email=email\n",
    "        self.address=address\n",
    "        self.phone_num=phone_num\n",
    "        \n",
    "    def printEmployee(self):\n",
    "        print(\"id: %s\\nname: %s\\nemail: %s\\naddress: %s\\nphone: %s\"%(self.eid,self.ename,self.email,self.address,self.phone_num))\n",
    "        \n",
    "        \n",
    "emp1 = Employee(\"151382356\",\"sifat\",\"sifat337@gmail.com\",\"Cantonment\",\"013402345\")\n",
    "emp2 = Employee(\"151382338\",\"Rasel\",\"rasel338@gmail.com\",\"Framgate\",\"01558647231\")\n",
    "\n",
    "emp1.printEmployee()\n",
    "emp2.printEmployee()"
   ]
  },
  {
   "cell_type": "code",
   "execution_count": null,
   "metadata": {},
   "outputs": [],
   "source": []
  }
 ],
 "metadata": {
  "kernelspec": {
   "display_name": "Python 3",
   "language": "python",
   "name": "python3"
  },
  "language_info": {
   "codemirror_mode": {
    "name": "ipython",
    "version": 3
   },
   "file_extension": ".py",
   "mimetype": "text/x-python",
   "name": "python",
   "nbconvert_exporter": "python",
   "pygments_lexer": "ipython3",
   "version": "3.6.4"
  }
 },
 "nbformat": 4,
 "nbformat_minor": 2
}
