{
 "cells": [
  {
   "cell_type": "markdown",
   "metadata": {},
   "source": [
    "# BFS"
   ]
  },
  {
   "cell_type": "code",
   "execution_count": 1,
   "metadata": {},
   "outputs": [
    {
     "name": "stdout",
     "output_type": "stream",
     "text": [
      "A['B', 'E']  0\n",
      "B['A', 'F']  1\n",
      "C['G']  4\n",
      "D['E', 'H']  2\n",
      "E['A', 'D', 'H']  1\n",
      "F['B', 'G', 'I', 'J']  2\n",
      "G['C', 'F', 'J']  3\n",
      "H['D', 'E', 'I']  2\n",
      "I['F', 'H']  3\n",
      "J['F', 'G']  3\n"
     ]
    }
   ],
   "source": [
    "class Vertex:\n",
    "\tdef __init__(self, n):\n",
    "\t\tself.name = n\n",
    "\t\tself.neighbors = list()\n",
    "\t\t\n",
    "\t\tself.distance = 9999\n",
    "\t\tself.color = 'black'\n",
    "\t\n",
    "\tdef add_neighbor(self, v):\n",
    "\t\tif v not in self.neighbors:\n",
    "\t\t\tself.neighbors.append(v)\n",
    "\t\t\tself.neighbors.sort()\n",
    "\n",
    "class Graph:\n",
    "\tvertices = {}\n",
    "\t\n",
    "\tdef add_vertex(self, vertex):\n",
    "\t\tif isinstance(vertex, Vertex) and vertex.name not in self.vertices:\n",
    "\t\t\tself.vertices[vertex.name] = vertex\n",
    "\t\t\treturn True\n",
    "\t\telse:\n",
    "\t\t\treturn False\n",
    "\t\n",
    "\tdef add_edge(self, u, v):\n",
    "\t\tif u in self.vertices and v in self.vertices:\n",
    "\t\t\tfor key, value in self.vertices.items():\n",
    "\t\t\t\tif key == u:\n",
    "\t\t\t\t\tvalue.add_neighbor(v)\n",
    "\t\t\t\tif key == v:\n",
    "\t\t\t\t\tvalue.add_neighbor(u)\n",
    "\t\t\treturn True\n",
    "\t\telse:\n",
    "\t\t\treturn False\n",
    "\t\t\t\n",
    "\tdef print_graph(self):\n",
    "\t\tfor key in sorted(list(self.vertices.keys())):\n",
    "\t\t\tprint(key + str(self.vertices[key].neighbors) + \"  \" + str(self.vertices[key].distance))\n",
    "\t\t\n",
    "\tdef bfs(self, vert):\n",
    "\t\tq = list()\n",
    "\t\tvert.distance = 0\n",
    "\t\tvert.color = 'red'\n",
    "\t\tfor v in vert.neighbors:\n",
    "\t\t\tself.vertices[v].distance = vert.distance + 1\n",
    "\t\t\tq.append(v)\n",
    "\t\t\n",
    "\t\twhile len(q) > 0:\n",
    "\t\t\tu = q.pop(0)\n",
    "\t\t\tnode_u = self.vertices[u]\n",
    "\t\t\tnode_u.color = 'red'\n",
    "\t\t\t\n",
    "\t\t\tfor v in node_u.neighbors:\n",
    "\t\t\t\tnode_v = self.vertices[v]\n",
    "\t\t\t\tif node_v.color == 'black':\n",
    "\t\t\t\t\tq.append(v)\n",
    "\t\t\t\t\tif node_v.distance > node_u.distance + 1:\n",
    "\t\t\t\t\t\tnode_v.distance = node_u.distance + 1\n",
    "\t\t\t\t\t\n",
    "g = Graph()\n",
    "a = Vertex('A')\n",
    "g.add_vertex(a)\n",
    "g.add_vertex(Vertex('B'))\n",
    "for i in range(ord('A'), ord('K')):\n",
    "\tg.add_vertex(Vertex(chr(i)))\n",
    "\n",
    "edges = ['AB', 'AE', 'BF', 'CG', 'DE', 'DH', 'EH', 'FG', 'FI', 'FJ', 'GJ', 'HI']\n",
    "for edge in edges:\n",
    "\tg.add_edge(edge[:1], edge[1:])\n",
    "\t\n",
    "g.bfs(a)\n",
    "g.print_graph()"
   ]
  },
  {
   "cell_type": "markdown",
   "metadata": {},
   "source": [
    "# DFS"
   ]
  },
  {
   "cell_type": "code",
   "execution_count": 2,
   "metadata": {},
   "outputs": [
    {
     "name": "stdout",
     "output_type": "stream",
     "text": [
      "[0, 2, 5, 4, 6, 1, 3]\n"
     ]
    }
   ],
   "source": [
    "vertexList = ['0', '1', '2', '3', '4', '5', '6']\n",
    "edgeList = [(0,1), (0,2), (1,0) , (1,3) , (2,0) , (2,4) , (2,5) , (3,1), (4,2) , (4,6), (5,2), (6,4)]\n",
    "graphs = (vertexList, edgeList)\n",
    "\n",
    "def dfs(graph, start):\n",
    "    vertexList, edgeList = graph\n",
    "    visitedVertex = []\n",
    "    stack = [start]\n",
    "    adjacencyList = [[] for vertex in vertexList]\n",
    "\n",
    "    for edge in edgeList:\n",
    "        adjacencyList[edge[0]].append(edge[1])\n",
    "\n",
    "    while stack:\n",
    "        current = stack.pop()\n",
    "        for neighbor in adjacencyList[current]:\n",
    "            if not neighbor in visitedVertex:\n",
    "                stack.append(neighbor)\n",
    "        visitedVertex.append(current)\n",
    "    return visitedVertex\n",
    "\n",
    "print(dfs(graphs, 0))"
   ]
  },
  {
   "cell_type": "markdown",
   "metadata": {},
   "source": [
    "# DLS"
   ]
  },
  {
   "cell_type": "code",
   "execution_count": 3,
   "metadata": {},
   "outputs": [
    {
     "name": "stdout",
     "output_type": "stream",
     "text": [
      "{'S': ['2', '6'], '2': ['S', '3'], '3': ['2', '8'], 'G': ['10'], '6': ['S', '11'], '8': ['3', '13'], '10': ['G', '15'], '11': ['6', '12'], '12': ['11', '13', '17'], '13': ['8', '12'], '15': ['10', '20'], '17': ['12', '22'], '19': ['20', '24'], '20': ['15', '19'], '21': ['22'], '22': ['17', '21', '23'], '23': ['22', '24'], '24': ['19', '23']}\n"
     ]
    }
   ],
   "source": [
    "ADJ = {}\n",
    "\"\"\"\"\n",
    "SRRXG\n",
    "RXRXR\n",
    "RRRXR\n",
    "XRXRR\n",
    "RRRRX\n",
    "\"\"\"\n",
    "ADJ['S'] = ['2', '6']\n",
    "ADJ['2'] = ['S', '3']\n",
    "ADJ['3'] = ['2','8']\n",
    "ADJ['G'] = ['10']\n",
    "ADJ['6'] = ['S', '11']\n",
    "ADJ['8'] = ['3', '13']\n",
    "ADJ['10'] = ['G', '15']\n",
    "ADJ['11'] = ['6', '12']\n",
    "ADJ['12'] = ['11', '13', '17']\n",
    "ADJ['13'] = ['8', '12']\n",
    "ADJ['15'] = ['10', '20']\n",
    "ADJ['17'] = ['12','22']\n",
    "ADJ['19'] = ['20', '24']\n",
    "ADJ['20'] = ['15','19']\n",
    "ADJ['21'] = ['22']\n",
    "ADJ['22'] = ['17','21','23']\n",
    "ADJ['23'] = ['22', '24']\n",
    "ADJ['24'] = ['19','23']\n",
    "print (ADJ)\n",
    "# keep track of visited nodes\n",
    "visited = {str(i) : False for i in range(1,26)}\n",
    "visited['S'] = False\n",
    "visited['G'] = False\n",
    "\n",
    "def dls(start, goal):\n",
    "    depth = 0\n",
    "    limit = 200\n",
    "    OPEN=[]\n",
    "    CLOSED=[]\n",
    "    OPEN.append(start)\n",
    "    visited[\"S\"] = True\n",
    "    while OPEN != []: # Step 2\n",
    "        if depth<=limit:\n",
    "            current = OPEN.pop() \n",
    "            # visited[current] = False\n",
    "            if current == goal:\n",
    "                # CLOSED.append(current)\n",
    "                print(\"Goal Node Found\")\n",
    "                # print(CLOSED)\n",
    "                return True\n",
    "            else:\n",
    "                # CLOSED.append(current)\n",
    "                lst = successors(current)\n",
    "                for i in lst:\n",
    "                    # try to visit a node in future, if not already been to it\n",
    "                    if(not(visited[i])):\n",
    "                        OPEN.append(i)\n",
    "                        visited[i] = True\n",
    "                depth +=1\n",
    "\n",
    "        else:\n",
    "            print(\"Not found within depth limit\")\n",
    "            return False\n",
    "\n",
    "\n",
    "    return False"
   ]
  },
  {
   "cell_type": "markdown",
   "metadata": {},
   "source": [
    "# Greedy Graph Coloring"
   ]
  },
  {
   "cell_type": "code",
   "execution_count": 4,
   "metadata": {},
   "outputs": [
    {
     "name": "stdout",
     "output_type": "stream",
     "text": [
      "{'c': 0, 'a': 1, 'd': 2, 'e': 1, 'b': 2, 'f': 2}\n"
     ]
    }
   ],
   "source": [
    "def color_nodes(graph):\n",
    "  # Order nodes in descending degree\n",
    "  nodes = sorted(list(graph.keys()), key=lambda x: len(graph[x]), reverse=True)\n",
    "  color_map = {}\n",
    "\n",
    "  for node in nodes:\n",
    "    available_colors = [True] * len(nodes)\n",
    "    for neighbor in graph[node]:\n",
    "      if neighbor in color_map:\n",
    "        color = color_map[neighbor]\n",
    "        available_colors[color] = False\n",
    "    for color, available in enumerate(available_colors):\n",
    "      if available:\n",
    "        color_map[node] = color\n",
    "        break\n",
    "\n",
    "  return color_map\n",
    "\n",
    "\n",
    "if __name__ == '__main__':\n",
    "  graph = {\n",
    "    'a': list('bcd'),\n",
    "    'b': list('ac'),\n",
    "    'c': list('abdef'),\n",
    "    'd': list('ace'),\n",
    "    'e': list('cdf'),\n",
    "    'f': list('ce')\n",
    "  }\n",
    "  print(color_nodes(graph))"
   ]
  },
  {
   "cell_type": "code",
   "execution_count": null,
   "metadata": {},
   "outputs": [],
   "source": []
  }
 ],
 "metadata": {
  "kernelspec": {
   "display_name": "Python 3",
   "language": "python",
   "name": "python3"
  },
  "language_info": {
   "codemirror_mode": {
    "name": "ipython",
    "version": 3
   },
   "file_extension": ".py",
   "mimetype": "text/x-python",
   "name": "python",
   "nbconvert_exporter": "python",
   "pygments_lexer": "ipython3",
   "version": "3.7.1"
  }
 },
 "nbformat": 4,
 "nbformat_minor": 2
}
